{
 "cells": [
  {
   "cell_type": "markdown",
   "metadata": {},
   "source": [
    "# Backpropagation in Multilayer Neural Networks\n",
    "\n",
    "### Goals: \n",
    "- implementING a real gradient descent in `Numpy`\n",
    "\n",
    "### Dataset:\n",
    "- Similar as first Lab - Digits: 10 class handwritten digits\n",
    "- [sklearn.datasets.load_digits](http://scikit-learn.org/stable/modules/generated/sklearn.datasets.load_digits.html#sklearn.datasets.load_digits)"
   ]
  },
  {
   "cell_type": "code",
   "execution_count": 5,
   "metadata": {},
   "outputs": [],
   "source": [
    "%matplotlib inline\n",
    "import matplotlib.pyplot as plt\n",
    "import numpy as np\n",
    "from sklearn.datasets import load_digits\n",
    "\n",
    "digits = load_digits()"
   ]
  },
  {
   "cell_type": "code",
   "execution_count": 6,
   "metadata": {},
   "outputs": [
    {
     "data": {
      "image/png": "[encoded data removed]",
      "text/plain": [
       "<Figure size 216x216 with 1 Axes>"
      ]
     },
     "metadata": {
      "needs_background": "light"
     },
     "output_type": "display_data"
    }
   ],
   "source": [
    "sample_index = 45\n",
    "plt.figure(figsize=(3, 3))\n",
    "plt.imshow(digits.images[sample_index], cmap=plt.cm.gray_r,\n",
    "           interpolation='nearest')\n",
    "plt.title(\"image label: %d\" % digits.target[sample_index]);"
   ]
  },
  {
   "cell_type": "markdown",
   "metadata": {},
   "source": [
    "### Preprocessing\n",
    "\n",
    "- Normalization\n",
    "- Train / test split"
   ]
  },
  {
   "cell_type": "code",
   "execution_count": 7,
   "metadata": {},
   "outputs": [],
   "source": [
    "from sklearn import preprocessing\n",
    "from sklearn.model_selection import train_test_split\n",
    "\n",
    "data = np.asarray(digits.data, dtype='float32')\n",
    "target = np.asarray(digits.target, dtype='int32')\n",
    "\n",
    "X_train, X_test, y_train, y_test = train_test_split(\n",
    "    data, target, test_size=0.15, random_state=37)\n",
    "\n",
    "# mean = 0 ; standard deviation = 1.0\n",
    "scaler = preprocessing.StandardScaler()\n",
    "X_train = scaler.fit_transform(X_train)\n",
    "X_test = scaler.transform(X_test)\n",
    "\n",
    "# print(scaler.mean_)\n",
    "# print(scaler.scale_)"
   ]
  },
  {
   "cell_type": "code",
   "execution_count": null,
   "metadata": {},
   "outputs": [],
   "source": []
  },
  {
   "cell_type": "code",
   "execution_count": 8,
   "metadata": {},
   "outputs": [],
   "source": [
    "def one_hot(n_classes, y):\n",
    "    return np.eye(n_classes)[y]"
   ]
  },
  {
   "cell_type": "code",
   "execution_count": 9,
   "metadata": {},
   "outputs": [
    {
     "data": {
      "text/plain": [
       "array([0., 0., 0., 1., 0., 0., 0., 0., 0., 0.])"
      ]
     },
     "execution_count": 9,
     "metadata": {},
     "output_type": "execute_result"
    }
   ],
   "source": [
    "one_hot(n_classes=10, y=3)"
   ]
  },
  {
   "cell_type": "code",
   "execution_count": 10,
   "metadata": {},
   "outputs": [
    {
     "data": {
      "text/plain": [
       "array([[1., 0., 0., 0., 0., 0., 0., 0., 0., 0.],\n",
       "       [0., 0., 0., 0., 1., 0., 0., 0., 0., 0.],\n",
       "       [0., 0., 0., 0., 0., 0., 0., 0., 0., 1.],\n",
       "       [0., 1., 0., 0., 0., 0., 0., 0., 0., 0.]])"
      ]
     },
     "execution_count": 10,
     "metadata": {},
     "output_type": "execute_result"
    }
   ],
   "source": [
    "one_hot(n_classes=10, y=[0, 4, 9, 1])"
   ]
  },
  {
   "cell_type": "code",
   "execution_count": 11,
   "metadata": {},
   "outputs": [
    {
     "name": "stdout",
     "output_type": "stream",
     "text": [
      "softmax of a single vector:\n",
      "[9.99662391e-01 3.35349373e-04 2.25956630e-06]\n"
     ]
    }
   ],
   "source": [
    "# norm over a column \n",
    "def softmax(X):\n",
    "    exp = np.exp(X)\n",
    "    return exp / np.sum(exp, axis=-1, keepdims=True)\n",
    "\n",
    "\n",
    "print(\"softmax of a single vector:\")\n",
    "print(softmax([10, 2, -3]))"
   ]
  },
  {
   "cell_type": "code",
   "execution_count": 12,
   "metadata": {},
   "outputs": [
    {
     "name": "stdout",
     "output_type": "stream",
     "text": [
      "[[[0. 1. 2. 3. 4. 5. 6. 7. 8.]\n",
      "  [0. 1. 2. 3. 4. 5. 6. 7. 8.]\n",
      "  [0. 1. 2. 3. 4. 5. 6. 7. 8.]\n",
      "  [0. 1. 2. 3. 4. 5. 6. 7. 8.]\n",
      "  [0. 1. 2. 3. 4. 5. 6. 7. 8.]\n",
      "  [0. 1. 2. 3. 4. 5. 6. 7. 8.]]\n",
      "\n",
      " [[0. 1. 2. 3. 4. 5. 6. 7. 8.]\n",
      "  [0. 1. 2. 3. 4. 5. 6. 7. 8.]\n",
      "  [0. 1. 2. 3. 4. 5. 6. 7. 8.]\n",
      "  [0. 1. 2. 3. 4. 5. 6. 7. 8.]\n",
      "  [0. 1. 2. 3. 4. 5. 6. 7. 8.]\n",
      "  [0. 1. 2. 3. 4. 5. 6. 7. 8.]]\n",
      "\n",
      " [[0. 1. 2. 3. 4. 5. 6. 7. 8.]\n",
      "  [0. 1. 2. 3. 4. 5. 6. 7. 8.]\n",
      "  [0. 1. 2. 3. 4. 5. 6. 7. 8.]\n",
      "  [0. 1. 2. 3. 4. 5. 6. 7. 8.]\n",
      "  [0. 1. 2. 3. 4. 5. 6. 7. 8.]\n",
      "  [0. 1. 2. 3. 4. 5. 6. 7. 8.]]]\n"
     ]
    },
    {
     "data": {
      "text/plain": [
       "array([[[36.],\n",
       "        [36.],\n",
       "        [36.],\n",
       "        [36.],\n",
       "        [36.],\n",
       "        [36.]],\n",
       "\n",
       "       [[36.],\n",
       "        [36.],\n",
       "        [36.],\n",
       "        [36.],\n",
       "        [36.],\n",
       "        [36.]],\n",
       "\n",
       "       [[36.],\n",
       "        [36.],\n",
       "        [36.],\n",
       "        [36.],\n",
       "        [36.],\n",
       "        [36.]]])"
      ]
     },
     "execution_count": 12,
     "metadata": {},
     "output_type": "execute_result"
    }
   ],
   "source": [
    "# TO BE EXAMINED MORE: keepdims?!\n",
    "\n",
    "m = 3\n",
    "W = np.ones((m, 2 * m, 3 * m))\n",
    "\n",
    "for i in range(m):\n",
    "    for j in range(2 * m):\n",
    "        for k in range(3 * m):\n",
    "            W[i, j, k] = k\n",
    "        \n",
    "# np.sum(W, axis=0)\n",
    "print(W)\n",
    "\n",
    "3 * 6 * 9\n",
    "np.sum(W, axis=-1, keepdims=True)\n",
    "\n",
    "# print(W[:, 0])"
   ]
  },
  {
   "cell_type": "markdown",
   "metadata": {},
   "source": [
    "Probabilities should sum to 1:"
   ]
  },
  {
   "cell_type": "code",
   "execution_count": 13,
   "metadata": {},
   "outputs": [
    {
     "name": "stdout",
     "output_type": "stream",
     "text": [
      "1.0\n"
     ]
    }
   ],
   "source": [
    "print(np.sum(softmax([10, 2, -3])))"
   ]
  },
  {
   "cell_type": "code",
   "execution_count": 14,
   "metadata": {},
   "outputs": [
    {
     "name": "stdout",
     "output_type": "stream",
     "text": [
      "sotfmax of 2 vectors:\n",
      "[[9.99662391e-01 3.35349373e-04 2.25956630e-06]\n",
      " [2.47262316e-03 9.97527377e-01 1.38536042e-11]]\n"
     ]
    }
   ],
   "source": [
    "print(\"sotfmax of 2 vectors:\")\n",
    "X = np.array([[10, 2, -3],\n",
    "              [-1, 5, -20]])\n",
    "print(softmax(X))"
   ]
  },
  {
   "cell_type": "markdown",
   "metadata": {},
   "source": [
    "The sum of probabilities for each input vector of logits should some to 1:"
   ]
  },
  {
   "cell_type": "code",
   "execution_count": 15,
   "metadata": {},
   "outputs": [
    {
     "name": "stdout",
     "output_type": "stream",
     "text": [
      "[1. 1.]\n"
     ]
    }
   ],
   "source": [
    "print(np.sum(softmax(X), axis=1))"
   ]
  },
  {
   "cell_type": "markdown",
   "metadata": {},
   "source": [
    "Implement a function that given the true one-hot encoded class `Y_true` and and some predicted probabilities `Y_pred` returns the negative log likelihood."
   ]
  },
  {
   "cell_type": "code",
   "execution_count": 16,
   "metadata": {},
   "outputs": [],
   "source": [
    "# def nll(Y_true, Y_pred):\n",
    "#     Y_true = np.asarray(Y_true)\n",
    "#     Y_pred = np.asarray(Y_pred)\n",
    "\n",
    "#     return -np.sum(Y_true * np.log(Y_pred))\n",
    "\n",
    "\n",
    "# # Make sure that it works for a simple sample at a time\n",
    "# print(nll([1, 0, 0], [.99, 0.01, 0]))"
   ]
  },
  {
   "cell_type": "markdown",
   "metadata": {},
   "source": [
    "Check that the nll of a very confident yet bad prediction is a much higher positive number:"
   ]
  },
  {
   "cell_type": "code",
   "execution_count": 17,
   "metadata": {},
   "outputs": [],
   "source": [
    "# print(nll([1, 0, 0], [0.01, 0.01, .98]))"
   ]
  },
  {
   "cell_type": "markdown",
   "metadata": {},
   "source": [
    "Make sure that your implementation can compute the average negative log likelihood of a group of predictions: `Y_pred` and `Y_true` can therefore be past as 2D arrays:"
   ]
  },
  {
   "cell_type": "code",
   "execution_count": 18,
   "metadata": {},
   "outputs": [],
   "source": [
    "# def nll(Y_true, Y_pred):\n",
    "#     Y_true = np.atleast_2d(Y_true)\n",
    "#     Y_pred = np.atleast_2d(Y_pred)\n",
    "\n",
    "#     # TODO\n",
    "#     return 0."
   ]
  },
  {
   "cell_type": "code",
   "execution_count": 19,
   "metadata": {},
   "outputs": [],
   "source": [
    "# # Check that the average NLL of the following 3 almost perfect\n",
    "# # predictions is close to 0\n",
    "# Y_true = np.array([[0, 1, 0],\n",
    "#                    [1, 0, 0],\n",
    "#                    [0, 0, 1]])\n",
    "\n",
    "# Y_pred = np.array([[0,   1,    0],\n",
    "#                    [.99, 0.01, 0],\n",
    "#                    [0,   0,    1]])\n",
    "\n",
    "# print(nll(Y_true, Y_pred))"
   ]
  },
  {
   "cell_type": "code",
   "execution_count": 20,
   "metadata": {},
   "outputs": [],
   "source": [
    "# # %load solutions/numpy_nll.py\n",
    "# EPSILON = 1e-8\n",
    "\n",
    "\n",
    "# def nll(Y_true, Y_pred):\n",
    "#     Y_true, Y_pred = np.atleast_2d(Y_true), np.atleast_2d(Y_pred)\n",
    "#     loglikelihoods = np.sum(np.log(EPSILON + Y_pred) * Y_true, axis=1)\n",
    "#     return -np.mean(loglikelihoods)\n",
    "\n",
    "\n",
    "# # Make sure that it works for a simple sample at a time\n",
    "# print(nll([1, 0, 0], [.99, 0.01, 0]))\n",
    "\n",
    "# # Check that the nll of a very confident yet bad prediction\n",
    "# # is very high:\n",
    "# print(nll([1, 0, 0], [0.01, 0.01, .98]))\n",
    "\n",
    "# # Check that the average NLL of the following 3 almost perfect\n",
    "# # predictions is close to 0\n",
    "# Y_true = np.array([[0, 1, 0],\n",
    "#                    [1, 0, 0],\n",
    "#                    [0, 0, 1]])\n",
    "\n",
    "# Y_pred = np.array([[0,   1,    0],\n",
    "#                    [.99, 0.01, 0],\n",
    "#                    [0,   0,    1]])\n",
    "# print(nll(Y_true, Y_pred))"
   ]
  },
  {
   "cell_type": "markdown",
   "metadata": {},
   "source": [
    "Let us now study the following linear model trainable by SGD, **one sample at a time**."
   ]
  },
  {
   "cell_type": "code",
   "execution_count": 21,
   "metadata": {},
   "outputs": [],
   "source": [
    "# class LogisticRegression():\n",
    "\n",
    "    \n",
    "#     def __init__(self, input_size, output_size):\n",
    "#         self.W = np.random.uniform(size=(input_size, output_size),\n",
    "#                                    high=0.1, low=-0.1)\n",
    "#         self.b = np.random.uniform(size=output_size,\n",
    "#                                    high=0.1, low=-0.1)\n",
    "        \n",
    "#         self.output_size = output_size\n",
    "        \n",
    "#     def forward(self, X):\n",
    "#         Z = np.dot(X, self.W) + self.b\n",
    "#         return softmax(Z)\n",
    "    \n",
    "#     # this returns a vector 1500x1:\n",
    "#     # that is the maximum prob. over axis=1 which is on [0, 1, 2, \\dots, 9]\n",
    "#     # and the axis=0 is say 1500 where we have 1500 images each of these\n",
    "#     # image was originally 8x8 and then transformed into 1x64\n",
    "#     def predict(self, X):\n",
    "#         if len(X.shape) == 1:\n",
    "#             return np.argmax(self.forward(X))\n",
    "#         else:\n",
    "#             return np.argmax(self.forward(X), axis=1)\n",
    "    \n",
    "#     def grad_loss(self, x, y_true):\n",
    "#         y_pred = self.forward(x)\n",
    "#         dnll_output =  y_pred - one_hot(self.output_size, y_true)\n",
    "#         grad_W = np.outer(x, dnll_output)\n",
    "#         grad_b = dnll_output\n",
    "#         grads = {\"W\": grad_W, \"b\": grad_b}\n",
    "        \n",
    "#         return grads\n",
    "    \n",
    "#     def train(self, x, y, learning_rate):\n",
    "#         # Traditional SGD update without momentum\n",
    "#         grads = self.grad_loss(x, y)\n",
    "#         self.W = self.W - learning_rate * grads[\"W\"]\n",
    "#         self.b = self.b - learning_rate * grads[\"b\"]      \n",
    "        \n",
    "#     def loss(self, X, y):\n",
    "#         return nll(one_hot(self.output_size, y), self.forward(X))\n",
    "\n",
    "#     def accuracy(self, X, y):\n",
    "#         y_preds = np.argmax(self.forward(X), axis=1)\n",
    "#         return np.mean(y_preds == y)"
   ]
  },
  {
   "cell_type": "markdown",
   "metadata": {},
   "source": [
    "formula (15) is from https://www.kamperh.com/notes/kamper_backprop17.pdf"
   ]
  },
  {
   "attachments": {
    "image.png": {
     "image/png": "[encoded data removed]"
    }
   },
   "cell_type": "markdown",
   "metadata": {},
   "source": [
    "![image.png](attachment:image.png)"
   ]
  },
  {
   "cell_type": "code",
   "execution_count": 22,
   "metadata": {},
   "outputs": [],
   "source": [
    "# # Build a model and test its forward inference\n",
    "# n_features = X_train.shape[1]\n",
    "# n_classes  = len(np.unique(y_train))\n",
    "# lr         = LogisticRegression(n_features, n_classes)\n",
    "\n",
    "# print(\"Evaluation of the untrained model:\")\n",
    "# train_loss = lr.loss(X_train, y_train)\n",
    "# train_acc  = lr.accuracy(X_train, y_train)\n",
    "# test_acc   = lr.accuracy(X_test, y_test)\n",
    "\n",
    "# print(\"train loss: %0.4f, train acc: %0.3f, test acc: %0.3f\"\n",
    "#       % (train_loss, train_acc, test_acc))"
   ]
  },
  {
   "cell_type": "markdown",
   "metadata": {},
   "source": [
    "Evaluate the randomly initialized model on the first example:"
   ]
  },
  {
   "cell_type": "code",
   "execution_count": 23,
   "metadata": {},
   "outputs": [],
   "source": [
    "# def plot_prediction(model, sample_idx=0, classes=range(10)):\n",
    "#     fig, (ax0, ax1) = plt.subplots(nrows=1, ncols=2, figsize=(10, 4))\n",
    "\n",
    "#     ax0.imshow(scaler.inverse_transform(X_test[sample_idx]).reshape(8, 8), cmap=plt.cm.gray_r,\n",
    "#                interpolation='nearest')\n",
    "#     ax0.set_title(\"True image label: %d\" % y_test[sample_idx]);\n",
    "\n",
    "\n",
    "#     ax1.bar(classes, one_hot(len(classes), y_test[sample_idx]), label='true')\n",
    "#     ax1.bar(classes, model.forward(X_test[sample_idx]), label='prediction', color=\"red\")\n",
    "#     ax1.set_xticks(classes)\n",
    "#     prediction = model.predict(X_test[sample_idx])\n",
    "#     ax1.set_title('Output probabilities (prediction: %d)'\n",
    "#                   % prediction)\n",
    "#     ax1.set_xlabel('Digit class')\n",
    "#     ax1.legend()\n",
    "    \n",
    "# plot_prediction(lr, sample_idx=0)"
   ]
  },
  {
   "cell_type": "code",
   "execution_count": 24,
   "metadata": {},
   "outputs": [],
   "source": [
    "# # Training for one epoch\n",
    "# learning_rate = 0.01\n",
    "\n",
    "# for i, (x, y) in enumerate(zip(X_train, y_train)):\n",
    "#     lr.train(x, y, learning_rate)\n",
    "#     if i % 100 == 0:\n",
    "#         train_loss = lr.loss(X_train, y_train)\n",
    "#         train_acc = lr.accuracy(X_train, y_train)\n",
    "#         test_acc = lr.accuracy(X_test, y_test)\n",
    "#         print(\"Update #%d, train loss: %0.4f, train acc: %0.3f, test acc: %0.3f\"\n",
    "#               % (i, train_loss, train_acc, test_acc))"
   ]
  },
  {
   "cell_type": "markdown",
   "metadata": {},
   "source": [
    "Evaluate the trained model on the first example:"
   ]
  },
  {
   "cell_type": "code",
   "execution_count": 25,
   "metadata": {},
   "outputs": [],
   "source": [
    "# plot_prediction(lr, sample_idx=0)"
   ]
  },
  {
   "cell_type": "markdown",
   "metadata": {},
   "source": [
    "## b) Feedforward Multilayer\n",
    "\n",
    "The objective of this section is to implement the backpropagation algorithm (SGD with the chain rule) on a single layer neural network using the sigmoid activation function.\n",
    "\n",
    "- Implement the `sigmoid` and its element-wise derivative `dsigmoid` functions:\n",
    "\n",
    "$$\n",
    "sigmoid(x) = \\frac{1}{1 + e^{-x}}\n",
    "$$\n",
    "\n",
    "$$\n",
    "dsigmoid(x) = sigmoid(x) \\cdot (1 - sigmoid(x))\n",
    "$$"
   ]
  },
  {
   "cell_type": "code",
   "execution_count": 26,
   "metadata": {},
   "outputs": [
    {
     "data": {
      "image/png": "[encoded data removed]",
      "text/plain": [
       "<Figure size 432x288 with 1 Axes>"
      ]
     },
     "metadata": {
      "needs_background": "light"
     },
     "output_type": "display_data"
    }
   ],
   "source": [
    "def sigmoid(X):\n",
    "    return 1 / (1 + np.exp(-X))\n",
    "    \n",
    "\n",
    "def dsigmoid(X):\n",
    "    return sigmoid(X) * (1 - sigmoid(X))\n",
    "\n",
    "\n",
    "x = np.linspace(-5, 5, 100)\n",
    "plt.plot(x, sigmoid(x), label='sigmoid')\n",
    "plt.plot(x, dsigmoid(x), label='dsigmoid')\n",
    "plt.legend(loc='best');"
   ]
  },
  {
   "cell_type": "code",
   "execution_count": 27,
   "metadata": {},
   "outputs": [
    {
     "data": {
      "image/png": "[encoded data removed]",
      "text/plain": [
       "<Figure size 432x288 with 1 Axes>"
      ]
     },
     "metadata": {
      "needs_background": "light"
     },
     "output_type": "display_data"
    }
   ],
   "source": [
    "# %load solutions/sigmoid.py\n",
    "def sigmoid(X):\n",
    "    return 1 / (1 + np.exp(-X))\n",
    "\n",
    "\n",
    "def dsigmoid(X):\n",
    "    sig=sigmoid(X)\n",
    "    return sig * (1 - sig)\n",
    "\n",
    "\n",
    "x = np.linspace(-5, 5, 100)\n",
    "plt.plot(x, sigmoid(x), label='sigmoid')\n",
    "plt.plot(x, dsigmoid(x), label='dsigmoid')\n",
    "plt.legend(loc='best');"
   ]
  },
  {
   "cell_type": "markdown",
   "metadata": {},
   "source": [
    "- Implement `forward` and `forward_keep_all` functions for a model with a hidden layer with a sigmoid activation function:\n",
    "  - $\\mathbf{h} = sigmoid(\\mathbf{W}^h \\mathbf{x} + \\mathbf{b^h})$\n",
    "  - $\\mathbf{y} = softmax(\\mathbf{W}^o \\mathbf{h} + \\mathbf{b^o})$\n",
    "\n",
    "- Notes: \n",
    "  - try to keep the code as similar as possible as the previous one;\n",
    "  - `forward` now has a keep activations parameter to also return hidden activations and pre activations;\n",
    "\n",
    "- Update the grad function to compute all gradients; check that the gradients are well defined;\n",
    "\n",
    "- Implement the `train` and `loss` functions.\n",
    "\n",
    "**Bonus**: reimplementing all from scratch only using the lecture slides but without looking at the solution of the `LogisticRegression` is an excellent exercise."
   ]
  },
  {
   "cell_type": "code",
   "execution_count": 28,
   "metadata": {},
   "outputs": [],
   "source": [
    "EPSILON = 1e-8\n",
    "\n",
    "\n",
    "class NeuralNet():\n",
    "    \"\"\"MLP with 1 hidden layer with a sigmoid activation\"\"\"\n",
    "    \n",
    "    def __init__(self, input_size, hidden_size, output_size):\n",
    "        # TODO\n",
    "        self.W_h = None\n",
    "        self.b_h = None\n",
    "        self.W_o = None\n",
    "        self.b_o = None\n",
    "        self.output_size = output_size\n",
    "            \n",
    "    def forward_keep_activations(self, X):\n",
    "        # TODO\n",
    "        z_h = W_o * h + b\n",
    "        h = softmax(z_h)\n",
    "        y = np.zeros(size=self.output_size)\n",
    "        return y, h, z_h\n",
    "\n",
    "    def forward(self, X):\n",
    "        y, h, z_h = self.forward_keep_activations(X)\n",
    "        return y\n",
    "    \n",
    "    def loss(self, X, y):\n",
    "        # TODO\n",
    "        return 42.\n",
    "\n",
    "    def grad_loss(self, x, y_true):\n",
    "        # TODO\n",
    "        return {\"W_h\": 0., \"b_h\": 0., \"W_o\": 0., \"b_o\": 0.}\n",
    "\n",
    "    def train(self, x, y, learning_rate):\n",
    "        # TODO\n",
    "        pass\n",
    "\n",
    "    def predict(self, X):\n",
    "        if len(X.shape) == 1:\n",
    "            return np.argmax(self.forward(X))\n",
    "        else:\n",
    "            return np.argmax(self.forward(X), axis=1)\n",
    "\n",
    "    def accuracy(self, X, y):\n",
    "        y_preds = np.argmax(self.forward(X), axis=1)\n",
    "        return np.mean(y_preds == y)"
   ]
  },
  {
   "cell_type": "code",
   "execution_count": 30,
   "metadata": {},
   "outputs": [],
   "source": [
    "# # %load solutions/neural_net.py\n",
    "class NeuralNet():\n",
    "    \"\"\"MLP with 1 hidden layer with a sigmoid activation\"\"\"\n",
    "\n",
    "    def __init__(self, input_size, hidden_size, output_size):\n",
    "        self.W_h = np.random.uniform(\n",
    "            size=(input_size, hidden_size), high=0.01, low=-0.01)\n",
    "        self.b_h = np.zeros(hidden_size)\n",
    "        self.W_o = np.random.uniform(\n",
    "            size=(hidden_size, output_size), high=0.01, low=-0.01)\n",
    "        self.b_o = np.zeros(output_size)\n",
    "        self.output_size = output_size\n",
    "\n",
    "    def forward(self, X, keep_activations=False):\n",
    "        z_h = np.dot(X, self.W_h) + self.b_h\n",
    "        h   = sigmoid(z_h)\n",
    "        z_o = np.dot(h, self.W_o) + self.b_o\n",
    "        y   = softmax(z_o)\n",
    "        if keep_activations:\n",
    "            return y, h, z_h\n",
    "        else:\n",
    "            return y\n",
    "\n",
    "    def loss(self, X, y):\n",
    "        return nll(one_hot(self.output_size, y), self.forward(X))\n",
    "\n",
    "    \n",
    "    def grad_loss(self, x, y_true):\n",
    "        y, h, z_h = self.forward(x, keep_activations=True)\n",
    "        grad_z_o = y - one_hot(self.output_size, y_true)\n",
    "\n",
    "        grad_W_o = np.outer(h, grad_z_o)\n",
    "        grad_b_o = grad_z_o\n",
    "        \n",
    "        grad_h = np.dot(grad_z_o, np.transpose(self.W_o))\n",
    "        grad_z_h = grad_h * dsigmoid(z_h)\n",
    "        \n",
    "        grad_W_h = np.outer(x, grad_z_h)\n",
    "        grad_b_h = grad_z_h\n",
    "        \n",
    "        grads = {\"W_h\": grad_W_h, \"b_h\": grad_b_h,\n",
    "                 \"W_o\": grad_W_o, \"b_o\": grad_b_o}\n",
    "        return grads\n",
    "\n",
    "    def train(self, x, y, learning_rate):\n",
    "        # Traditional SGD update on one sample at a time\n",
    "        grads = self.grad_loss(x, y)\n",
    "        self.W_h = self.W_h - learning_rate * grads[\"W_h\"]\n",
    "        self.b_h = self.b_h - learning_rate * grads[\"b_h\"]\n",
    "        self.W_o = self.W_o - learning_rate * grads[\"W_o\"]\n",
    "        self.b_o = self.b_o - learning_rate * grads[\"b_o\"]\n",
    "\n",
    "    def predict(self, X):\n",
    "        if len(X.shape) == 1:\n",
    "            return np.argmax(self.forward(X))\n",
    "        else:\n",
    "            return np.argmax(self.forward(X), axis=1)\n",
    "\n",
    "    def accuracy(self, X, y):\n",
    "        y_preds = np.argmax(self.forward(X), axis=1)\n",
    "        return np.mean(y_preds == y)\n"
   ]
  },
  {
   "cell_type": "code",
   "execution_count": 31,
   "metadata": {},
   "outputs": [],
   "source": [
    "# fn_softmax(np.ones(10)) * fn_softmax(np.ones(10))"
   ]
  },
  {
   "cell_type": "code",
   "execution_count": 33,
   "metadata": {},
   "outputs": [],
   "source": [
    "# TODO: DEFINE DIFFERENT FUNCTIONS AND THEIR DERIVS.        \n",
    "act_fn                = lambda u: 1 / (1 + np.exp(-u))\n",
    "derivative_act_fn     = lambda u: act_fn(u) * (1 - act_fn(u))\n",
    "fn_softmax            = lambda u: np.exp(u) / sum(np.exp(u))\n",
    "derivative_fn_softmax = lambda u: fn_softmax(u) * (1 - fn_softmax(u))\n",
    "\n",
    "\n",
    "class NeuralNetMultiLayer():\n",
    "    \"\"\"MLP\"\"\"\n",
    "    \n",
    "    def __init__(self, layers_specs, dim_input=None):\n",
    "        \"\"\"\n",
    "        network: is a list of layers\n",
    "        \"\"\"\n",
    "        dim_prev_layer = dim_input\n",
    "        self.network = []\n",
    "        for index, layer_spec in enumerate(layers_specs):\n",
    "            number_of_neurons, act_fn = layer_spec\n",
    "            self.network.append(self.layer(layer_spec, dim_prev_layer, index=index))\n",
    "            dim_prev_layer = number_of_neurons\n",
    "       \n",
    "        self.output_size, _ = layers_specs[-1]\n",
    "        \n",
    "    def layer(self, spec, dim_input=None, index=0, init_distribution=(-0.01, 0.01)):\n",
    "\n",
    "        number_of_neurons, act_fn = spec\n",
    "        low, high = init_distribution\n",
    "        \n",
    "        print(\"layer index:\", index)\n",
    "        print(\"spec :\", spec)\n",
    "        print(\"W dim:\", number_of_neurons, dim_input)\n",
    "        \n",
    "        W = np.random.uniform(low=low, high=high, size=(number_of_neurons, dim_input)) # W*x\n",
    "\n",
    "        # this is very important; \n",
    "        # size specifies only one dimension \n",
    "        # so numpy creates a vector; \n",
    "        # e.g. (3, 1) is still treated as a matrix and affects MUL\n",
    "        # but (3, ) is a vector!\n",
    "        # so the following is wrong\n",
    "        # bias = np.random.uniform(low=low, high=high, size=(number_of_neurons, 1))\n",
    "        # but this is correct:\n",
    "        \n",
    "        bias = np.random.uniform(low=low, high=high, size=(number_of_neurons, ))\n",
    "        \n",
    "        return (W, bias, act_fn)\n",
    "    \n",
    "    def forward(self, x_input, init_distribution=(-0.01, 0.01)):\n",
    "        \n",
    "        \"\"\"additionally we store intermediate \n",
    "        computations over each layer in the list\n",
    "        `output_over_layer`;\n",
    "        we need the results to calculate \n",
    "        gradient of individual layers\n",
    "        in a back-propagation (below)\n",
    "        \"\"\"\n",
    "        \n",
    "        low, high = init_distribution\n",
    "        \n",
    "        lst_x = []\n",
    "        lst_z = []\n",
    "        lst_y = []\n",
    "        \n",
    "        x = x_input \n",
    "        for index, layer in enumerate(self.network):\n",
    "            lst_x.append(x)\n",
    "            (W, bias, act_fn) = layer\n",
    "            \n",
    "            z = np.dot(W, x) + bias\n",
    "            lst_z.append(z)\n",
    "            \n",
    "            y = act_fn(z)\n",
    "            lst_y.append(y)\n",
    "            \n",
    "            x = y\n",
    "        \n",
    "        return lst_x, lst_z, lst_y\n",
    "    \n",
    "    \n",
    "    def backpropagate(self, x, y_target, eta=0.01): \n",
    "\n",
    "        lst_x, lst_z, lst_y = self.forward(x)\n",
    "        \n",
    "        # get the last elements\n",
    "        x = lst_x[-1]\n",
    "        z = lst_z[-1]\n",
    "        y = lst_y[-1]\n",
    "        \n",
    "        # list of deltas\n",
    "        lst_delta = []\n",
    "        \n",
    "        #-----------------------------------------------------\n",
    "        # J stands for value of the optimization function\n",
    "        # Energy, Loss, Error;\n",
    "        J            = np.sum((y - y_target) ** 2)\n",
    "        derivative_J = 2 * (y - y_target) # this is delta(loss) / delta(a_last) \n",
    "        \n",
    "        # importantly: here * is the component-wise vector multiplication \n",
    "        # it is not dot-product\n",
    "        \n",
    "        delta = derivative_J * derivative_fn_softmax(z) \n",
    "        lst_delta.append(delta)\n",
    "        \n",
    "        nabla_JW = np.outer(delta, x)\n",
    "        nabla_Jb = delta\n",
    "        \n",
    "        #-----------------------------------------------------\n",
    "        # to update the last layer\n",
    "        #-----------------------------------------------------\n",
    "        layer = self.network[-1]\n",
    "        (W, bias, act_fn) = layer\n",
    "        \n",
    "        # print(\"# to update the last layer\")\n",
    "        # print(\"W     - \", W.shape)\n",
    "        # print(\"delta - \", delta.shape)\n",
    "        # print(nabla_JW.shape)\n",
    "        # print(bias.shape)\n",
    "        # print(nabla_Jb.shape)\n",
    "        \n",
    "        \n",
    "        W    = W - eta * nabla_JW\n",
    "        bias = bias - eta * nabla_Jb\n",
    "        self.network[-1] = (W, bias, act_fn)\n",
    "        #-----------------------------------------------------\n",
    "    \n",
    "        # in the following loop we do a backprop and *prepend* deltas \n",
    "        # index is going in the reverse way: \n",
    "        for ind in reversed(range(len(self.network) - 1)):\n",
    "            \n",
    "            # print(\"index:\", ind)\n",
    "            x = lst_x[ind]\n",
    "            z = lst_z[ind]\n",
    "            # y = lst_y[ind] # not used.\n",
    "            \n",
    "            #-----------------------------------------------------\n",
    "            layer             = self.network[ind]\n",
    "            (W, bias, act_fn) = layer\n",
    "            \n",
    "            layer_next = self.network[ind + 1] \n",
    "            (W_next, bias_next, act_fn_next) = layer_next\n",
    "            \n",
    "            #-----------------------------------------------------\n",
    "      \n",
    "            # vector_one := derivative_sigma^{nu}(z^{nu}) \n",
    "            # vector_two := (transpose(W^{nu + 1}) * delta^{nu + 1})\n",
    "            # delta^{nu} := component_multiplication(vector_one, vector_two)\n",
    "\n",
    "            # b/c we prepend delta to the list lst_delta and loop-backward\n",
    "            delta_next = lst_delta[0]\n",
    "            \n",
    "            # print(\"delta_next:\", delta_next)\n",
    "            # print(\"W_next     - \", W_next.shape)\n",
    "            # print(\"delta_next - \", delta_next.shape)\n",
    "            \n",
    "            # here * is not a dot-product\n",
    "            delta = derivative_act_fn(z) * np.dot(np.transpose(W_next), delta_next) \n",
    "            \n",
    "            # prepend delta to the list\n",
    "            lst_delta = [delta] + lst_delta\n",
    "\n",
    "            nabla_JW = np.outer(delta, x)\n",
    "            nabla_Jb = delta\n",
    "            \n",
    "            W = W - eta * nabla_JW\n",
    "            bias = bias - eta * nabla_Jb\n",
    "            self.network[ind] = (W, bias, act_fn)\n",
    "        \n",
    "        return 0\n",
    "\n",
    "\n",
    "    def backpropagate_batch(self, batch_x, batch_y_target, eta=0.01): \n",
    "        \n",
    "        # list of deltas\n",
    "        lst_delta = []\n",
    "\n",
    "        #TODO: optimize what can be in the matrix form \n",
    "        lst_lst_x = []\n",
    "        lst_lst_y = []\n",
    "        lst_lst_z = []\n",
    "        \n",
    "        batch_len = len(batch_x)\n",
    "        \n",
    "        for x, y in zip(batch_x, batch_y_target):\n",
    "            \n",
    "            lst_x, lst_z, lst_y = self.forward(x)\n",
    "            lst_lst_x.append(lst_x)\n",
    "            lst_lst_y.append(lst_y)\n",
    "            lst_lst_z.append(lst_z)\n",
    "            \n",
    "        \n",
    "        \n",
    "        for k in range(batch_len):\n",
    "        \n",
    "            # get the last elements\n",
    "            x = lst_lst_x[k][-1]\n",
    "            z = lst_lst_z[k][-1]\n",
    "            y = lst_lst_y[k][-1]\n",
    "            \n",
    "            y_target = batch_y_target[k]\n",
    "\n",
    "            #-----------------------------------------------------\n",
    "            # J stands for value of the optimization function\n",
    "            # Energy, Loss, Error;\n",
    "            J = np.sum((y - y_target) ** 2)\n",
    "            derivative_J = 2 * (y - y_target) # this is delta(loss) / delta(a_last) \n",
    "\n",
    "            # importantly: here * is the component-wise vector multiplication \n",
    "            # it is not dot-product\n",
    "\n",
    "            delta = derivative_J * derivative_fn_softmax(z) \n",
    "            lst_delta.append(delta)\n",
    "\n",
    "            nabla_JW = np.outer(delta, x)\n",
    "            nabla_Jb = delta\n",
    "\n",
    "            \n",
    "        #-----------------------------------------------------\n",
    "        # to update the last layer\n",
    "        #-----------------------------------------------------\n",
    "        layer = self.network[-1]\n",
    "        (W, bias, act_fn) = layer\n",
    "        \n",
    "        print(\"# to update the last layer\")\n",
    "        print(W.shape)\n",
    "        print(nabla_JW.shape)\n",
    "        print(bias.shape)\n",
    "        print(nabla_Jb.shape)\n",
    "        \n",
    "        \n",
    "        W = W - eta * nabla_JW\n",
    "        bias = bias - eta * nabla_Jb\n",
    "        self.network[-1] = (W, bias, act_fn)\n",
    "        #-----------------------------------------------------\n",
    "    \n",
    "        # in the following loop we do a backprop and *prepend* deltas \n",
    "        # index is going in the reverse way: \n",
    "        for ind in reversed(range(len(self.network) - 1)): \n",
    "            # print(\"index:\", ind)\n",
    "            x = lst_x[ind]\n",
    "            z = lst_z[ind]\n",
    "            y = lst_y[ind]\n",
    "            #-----------------------------------------------------\n",
    "            layer = self.network[ind]\n",
    "            (W, bias, act_fn) = layer\n",
    "            \n",
    "            layer_next = self.network[ind + 1] \n",
    "            (W_next, bias_next, act_fn_next) = layer_next\n",
    "            #-----------------------------------------------------\n",
    "      \n",
    "            # vector_one := derivative_sigma^{nu}(z^{nu}) \n",
    "            # vector_two := (transpose(W^{nu + 1}) * delta^{nu + 1})\n",
    "            # delta^{nu} := component_multiplication(vector_one, vector_two)\n",
    "\n",
    "            # b/c we prepend delta to the list lst_delta and loop-backward\n",
    "            delta_next = lst_delta[0]\n",
    "            print(\"delta_next:\", delta_next)\n",
    "            \n",
    "            # here * is not a dot-product\n",
    "            \n",
    "            delta = derivative_act_fn(z) * np.dot(np.transpose(W_next), delta_next) \n",
    "            #prepend delta to the list\n",
    "            lst_delta = [delta] + lst_delta\n",
    "\n",
    "            nabla_JW = np.outer(delta, x)\n",
    "            nabla_Jb = delta\n",
    "            \n",
    "            W = W - eta * nabla_JW\n",
    "            bias = bias - eta * nabla_Jb\n",
    "            self.network[ind] = (W, bias, act_fn)\n",
    "            \n",
    "            \n",
    "            # derivate: map from function to function\n",
    "            # derivative_act_fn = map_derivative[act_fn]\n",
    "            \n",
    "        return 0\n",
    "   "
   ]
  },
  {
   "cell_type": "code",
   "execution_count": 34,
   "metadata": {},
   "outputs": [],
   "source": [
    "# --------------------------------------------\n",
    "# out = sigma_3(a_3)\n",
    "# out = sigma_3 (W_3 * x_3)\n",
    "# out = softmax (z_3) = a_3 = y_3\n",
    "# --------------------------------------------"
   ]
  },
  {
   "cell_type": "code",
   "execution_count": 35,
   "metadata": {},
   "outputs": [
    {
     "name": "stdout",
     "output_type": "stream",
     "text": [
      "layer index: 0\n",
      "spec : (20, <function <lambda> at 0x7f8bff9050e0>)\n",
      "W dim: 20 64\n",
      "layer index: 1\n",
      "spec : (25, <function <lambda> at 0x7f8bff9050e0>)\n",
      "W dim: 25 20\n",
      "layer index: 2\n",
      "spec : (10, <function <lambda> at 0x7f8bff905830>)\n",
      "W dim: 10 25\n"
     ]
    }
   ],
   "source": [
    "init_distribution = (-0.01, 0.01)\n",
    "layers_specs = [\n",
    "    (20, act_fn), \n",
    "    (25, act_fn),\n",
    "    (10, fn_softmax),\n",
    "]\n",
    "\n",
    "nn = NeuralNetMultiLayer(layers_specs=layers_specs, dim_input=64)"
   ]
  },
  {
   "cell_type": "code",
   "execution_count": 36,
   "metadata": {},
   "outputs": [],
   "source": [
    "# # test input:\n",
    "# print(X_train.size)\n",
    "# x_input = X_train[0]\n",
    "# print(type(x_input), x_input.shape)\n",
    "# print(x_input)"
   ]
  },
  {
   "cell_type": "code",
   "execution_count": 37,
   "metadata": {},
   "outputs": [],
   "source": [
    "# z_lst, y_lst = nn.forward(x_input)"
   ]
  },
  {
   "cell_type": "markdown",
   "metadata": {},
   "source": [
    "### this is the backprop part"
   ]
  },
  {
   "cell_type": "code",
   "execution_count": 57,
   "metadata": {},
   "outputs": [
    {
     "data": {
      "image/png": "[encoded data removed]",
      "text/plain": [
       "<Figure size 144x144 with 1 Axes>"
      ]
     },
     "metadata": {
      "needs_background": "light"
     },
     "output_type": "display_data"
    },
    {
     "data": {
      "image/png": "[encoded data removed]",
      "text/plain": [
       "<Figure size 144x144 with 1 Axes>"
      ]
     },
     "metadata": {
      "needs_background": "light"
     },
     "output_type": "display_data"
    },
    {
     "data": {
      "image/png": "[encoded data removed]",
      "text/plain": [
       "<Figure size 144x144 with 1 Axes>"
      ]
     },
     "metadata": {
      "needs_background": "light"
     },
     "output_type": "display_data"
    },
    {
     "data": {
      "image/png": "[encoded data removed]",
      "text/plain": [
       "<Figure size 144x144 with 1 Axes>"
      ]
     },
     "metadata": {
      "needs_background": "light"
     },
     "output_type": "display_data"
    }
   ],
   "source": [
    "\n",
    "for i in range(0, 4):\n",
    "    x_input  = X_train[i]\n",
    "    y_target = y_train[i]\n",
    "\n",
    "    plt.figure(figsize=(2, 2))\n",
    "    plt.imshow(x_input.reshape(8, 8), cmap=plt.cm.gray_r,\n",
    "               interpolation='nearest')\n",
    "    plt.title(\"image label: %d\" % y_target);\n"
   ]
  },
  {
   "cell_type": "code",
   "execution_count": null,
   "metadata": {},
   "outputs": [],
   "source": []
  },
  {
   "cell_type": "code",
   "execution_count": 43,
   "metadata": {},
   "outputs": [],
   "source": [
    "lst_delta = nn.backpropagate(x_input, y_target)"
   ]
  },
  {
   "cell_type": "code",
   "execution_count": 58,
   "metadata": {},
   "outputs": [
    {
     "name": "stdout",
     "output_type": "stream",
     "text": [
      "layer index: 0\n",
      "spec : (20, <function <lambda> at 0x7f8bff9050e0>)\n",
      "W dim: 20 64\n",
      "layer index: 1\n",
      "spec : (25, <function <lambda> at 0x7f8bff9050e0>)\n",
      "W dim: 25 20\n",
      "layer index: 2\n",
      "spec : (30, <function <lambda> at 0x7f8bff9050e0>)\n",
      "W dim: 30 25\n",
      "layer index: 3\n",
      "spec : (10, <function <lambda> at 0x7f8bff905830>)\n",
      "W dim: 10 30\n",
      "################################################################################\n",
      "i-th element: 0\n",
      "y: [0] 2\n",
      "--------------------------------------------------------------------------------\n",
      "results after 100 iterations; argmax and prob. distr for softmax:\n",
      "--------------------------------------------------------------------------------\n",
      "8 [0.13977059 0.07098534 0.08057608 0.11061309 0.10073687 0.10801823\n",
      " 0.0912281  0.08527429 0.14067669 0.07212071]\n",
      "################################################################################\n",
      "i-th element: 1\n",
      "y: [0] 9\n",
      "--------------------------------------------------------------------------------\n",
      "results after 100 iterations; argmax and prob. distr for softmax:\n",
      "--------------------------------------------------------------------------------\n",
      "8 [4.99966866e-01 1.12900256e-53 1.89154325e-53 1.61139385e-52\n",
      " 6.87807525e-53 1.25122210e-52 3.54741547e-53 2.47255732e-53\n",
      " 5.00033134e-01 1.20094124e-53]\n",
      "################################################################################\n",
      "i-th element: 2\n",
      "y: [0] 5\n",
      "--------------------------------------------------------------------------------\n",
      "results after 100 iterations; argmax and prob. distr for softmax:\n",
      "--------------------------------------------------------------------------------\n",
      "0 [5.00000103e-01 5.85947188e-84 9.82339019e-84 8.39140023e-83\n",
      " 3.57789221e-83 6.51364067e-83 1.84374840e-83 1.28451102e-83\n",
      " 4.99999897e-01 6.23334336e-84]\n",
      "################################################################################\n",
      "i-th element: 3\n",
      "y: [0] 1\n",
      "--------------------------------------------------------------------------------\n",
      "results after 100 iterations; argmax and prob. distr for softmax:\n",
      "--------------------------------------------------------------------------------\n",
      "0 [5.00000028e-01 2.67675933e-87 4.48708921e-87 3.83122188e-86\n",
      " 1.63384116e-86 2.97406782e-86 8.42067370e-87 5.86700508e-87\n",
      " 4.99999972e-01 2.84751398e-87]\n",
      "################################################################################\n",
      "i-th element: 4\n",
      "y: [0] 6\n",
      "--------------------------------------------------------------------------------\n",
      "results after 100 iterations; argmax and prob. distr for softmax:\n",
      "--------------------------------------------------------------------------------\n",
      "0 [5.00000052e-001 2.45151398e-124 4.11086649e-124 3.51488833e-123\n",
      " 1.49810832e-123 2.72804789e-123 7.71775762e-124 5.37600556e-124\n",
      " 4.99999948e-001 2.60800941e-124]\n",
      "################################################################################\n",
      "i-th element: 5\n",
      "y: [0] 9\n",
      "--------------------------------------------------------------------------------\n",
      "results after 100 iterations; argmax and prob. distr for softmax:\n",
      "--------------------------------------------------------------------------------\n",
      "0 [5.00000019e-001 1.48013356e-181 2.48226015e-181 2.12336788e-180\n",
      " 9.04851825e-181 1.64794071e-180 4.66082719e-181 3.24637161e-181\n",
      " 4.99999981e-001 1.57464155e-181]\n",
      "################################################################################\n",
      "i-th element: 6\n",
      "y: [] 0\n",
      "--------------------------------------------------------------------------------\n",
      "results after 100 iterations; argmax and prob. distr for softmax:\n",
      "--------------------------------------------------------------------------------\n",
      "8 [4.99999986e-001 3.86571239e-178 6.48202022e-178 5.54130439e-177\n",
      " 2.36196859e-177 4.30092344e-177 1.21687496e-177 8.47670951e-178\n",
      " 5.00000014e-001 4.11246310e-178]\n",
      "################################################################################\n",
      "i-th element: 7\n",
      "y: [0] 3\n",
      "--------------------------------------------------------------------------------\n",
      "results after 100 iterations; argmax and prob. distr for softmax:\n",
      "--------------------------------------------------------------------------------\n",
      "0 [5.00000015e-001 5.21727529e-195 8.74953526e-195 7.48412788e-194\n",
      " 3.18934915e-194 5.80844877e-194 1.64283667e-194 1.14428248e-194\n",
      " 4.99999985e-001 5.55039508e-195]\n",
      "################################################################################\n",
      "i-th element: 8\n",
      "y: [0] 6\n",
      "--------------------------------------------------------------------------------\n",
      "results after 100 iterations; argmax and prob. distr for softmax:\n",
      "--------------------------------------------------------------------------------\n",
      "0 [5.00000006e-001 4.85119106e-232 8.13596503e-232 6.96061039e-231\n",
      " 2.96603017e-231 5.40202243e-231 1.52771474e-231 1.06406322e-231\n",
      " 4.99999994e-001 5.16096598e-232]\n",
      "################################################################################\n",
      "i-th element: 9\n",
      "y: [] 0\n",
      "--------------------------------------------------------------------------------\n",
      "results after 100 iterations; argmax and prob. distr for softmax:\n",
      "--------------------------------------------------------------------------------\n",
      "8 [4.99999996e-001 1.19336280e-228 2.00128080e-228 1.71174952e-227\n",
      " 7.29475373e-228 1.32850160e-227 3.75759929e-228 2.61729896e-228\n",
      " 5.00000004e-001 1.26955616e-228]\n",
      "################################################################################\n",
      "i-th element: 10\n",
      "y: [0] 2\n",
      "--------------------------------------------------------------------------------\n",
      "results after 100 iterations; argmax and prob. distr for softmax:\n",
      "--------------------------------------------------------------------------------\n",
      "0 [5.00000005e-001 9.23906381e-239 1.54945835e-238 1.32550466e-237\n",
      " 5.64838346e-238 1.02871429e-237 2.90939307e-238 2.02643989e-238\n",
      " 4.99999995e-001 9.82900310e-239]\n",
      "################################################################################\n",
      "i-th element: 11\n",
      "y: [0] 2\n",
      "--------------------------------------------------------------------------------\n",
      "results after 100 iterations; argmax and prob. distr for softmax:\n",
      "--------------------------------------------------------------------------------\n",
      "0 [5.00000005e-001 7.35801228e-249 1.23400396e-248 1.05568708e-247\n",
      " 4.49853640e-248 8.19306935e-248 2.31709620e-248 1.61388469e-248\n",
      " 4.99999995e-001 7.82785072e-249]\n",
      "################################################################################\n",
      "i-th element: 12\n",
      "y: [0] 1\n",
      "--------------------------------------------------------------------------------\n",
      "results after 100 iterations; argmax and prob. distr for softmax:\n",
      "--------------------------------------------------------------------------------\n",
      "0 [5.00000003e-001 3.25391382e-252 5.45698939e-252 4.66803284e-251\n",
      " 1.98922996e-251 3.62284621e-251 1.02463607e-251 7.13681431e-252\n",
      " 4.99999997e-001 3.46168010e-252]\n",
      "################################################################################\n",
      "i-th element: 13\n",
      "y: [0] 9\n",
      "--------------------------------------------------------------------------------\n",
      "results after 100 iterations; argmax and prob. distr for softmax:\n",
      "--------------------------------------------------------------------------------\n",
      "0 [0. 0. 0. 0. 0. 0. 0. 0. 0. 0.]\n",
      "################################################################################\n",
      "i-th element: 14\n",
      "y: [0] 7\n",
      "--------------------------------------------------------------------------------\n",
      "results after 100 iterations; argmax and prob. distr for softmax:\n",
      "--------------------------------------------------------------------------------\n",
      "0 [0. 0. 0. 0. 0. 0. 0. 0. 0. 0.]\n",
      "################################################################################\n",
      "i-th element: 15\n",
      "y: [0] 2\n",
      "--------------------------------------------------------------------------------\n",
      "results after 100 iterations; argmax and prob. distr for softmax:\n",
      "--------------------------------------------------------------------------------\n",
      "0 [0. 0. 0. 0. 0. 0. 0. 0. 0. 0.]\n",
      "################################################################################\n",
      "i-th element: 16\n",
      "y: [0] 3\n",
      "--------------------------------------------------------------------------------\n",
      "results after 100 iterations; argmax and prob. distr for softmax:\n",
      "--------------------------------------------------------------------------------\n",
      "0 [0. 0. 0. 0. 0. 0. 0. 0. 0. 0.]\n",
      "################################################################################\n",
      "i-th element: 17\n",
      "y: [0] 4\n",
      "--------------------------------------------------------------------------------\n",
      "results after 100 iterations; argmax and prob. distr for softmax:\n",
      "--------------------------------------------------------------------------------\n",
      "0 [0. 0. 0. 0. 0. 0. 0. 0. 0. 0.]\n",
      "################################################################################\n",
      "i-th element: 18\n",
      "y: [0] 6\n",
      "--------------------------------------------------------------------------------\n"
     ]
    },
    {
     "name": "stderr",
     "output_type": "stream",
     "text": [
      "/home/ivan/.local/lib/python3.7/site-packages/ipykernel_launcher.py:4: RuntimeWarning: overflow encountered in double_scalars\n",
      "  after removing the cwd from sys.path.\n"
     ]
    },
    {
     "name": "stdout",
     "output_type": "stream",
     "text": [
      "results after 100 iterations; argmax and prob. distr for softmax:\n",
      "--------------------------------------------------------------------------------\n",
      "0 [0. 0. 0. 0. 0. 0. 0. 0. 0. 0.]\n",
      "################################################################################\n",
      "i-th element: 19\n",
      "y: [0] 9\n",
      "--------------------------------------------------------------------------------\n",
      "results after 100 iterations; argmax and prob. distr for softmax:\n",
      "--------------------------------------------------------------------------------\n",
      "0 [0. 0. 0. 0. 0. 0. 0. 0. 0. 0.]\n",
      "################################################################################\n",
      "i-th element: 20\n",
      "y: [0] 2\n",
      "--------------------------------------------------------------------------------\n",
      "results after 100 iterations; argmax and prob. distr for softmax:\n",
      "--------------------------------------------------------------------------------\n",
      "0 [0. 0. 0. 0. 0. 0. 0. 0. 0. 0.]\n",
      "################################################################################\n",
      "i-th element: 21\n",
      "y: [0] 1\n",
      "--------------------------------------------------------------------------------\n",
      "results after 100 iterations; argmax and prob. distr for softmax:\n",
      "--------------------------------------------------------------------------------\n",
      "0 [0. 0. 0. 0. 0. 0. 0. 0. 0. 0.]\n",
      "################################################################################\n",
      "i-th element: 22\n",
      "y: [] 0\n",
      "--------------------------------------------------------------------------------\n",
      "results after 100 iterations; argmax and prob. distr for softmax:\n",
      "--------------------------------------------------------------------------------\n",
      "0 [0. 0. 0. 0. 0. 0. 0. 0. 0. 0.]\n",
      "################################################################################\n",
      "i-th element: 23\n",
      "y: [0] 7\n",
      "--------------------------------------------------------------------------------\n",
      "results after 100 iterations; argmax and prob. distr for softmax:\n",
      "--------------------------------------------------------------------------------\n",
      "0 [0. 0. 0. 0. 0. 0. 0. 0. 0. 0.]\n",
      "################################################################################\n",
      "i-th element: 24\n",
      "y: [0] 7\n",
      "--------------------------------------------------------------------------------\n",
      "results after 100 iterations; argmax and prob. distr for softmax:\n",
      "--------------------------------------------------------------------------------\n",
      "0 [0. 0. 0. 0. 0. 0. 0. 0. 0. 0.]\n",
      "################################################################################\n",
      "i-th element: 25\n",
      "y: [0] 1\n",
      "--------------------------------------------------------------------------------\n",
      "results after 100 iterations; argmax and prob. distr for softmax:\n",
      "--------------------------------------------------------------------------------\n",
      "0 [0. 0. 0. 0. 0. 0. 0. 0. 0. 0.]\n",
      "################################################################################\n",
      "i-th element: 26\n",
      "y: [0] 9\n",
      "--------------------------------------------------------------------------------\n",
      "results after 100 iterations; argmax and prob. distr for softmax:\n",
      "--------------------------------------------------------------------------------\n",
      "0 [0. 0. 0. 0. 0. 0. 0. 0. 0. 0.]\n",
      "################################################################################\n",
      "i-th element: 27\n",
      "y: [0] 7\n",
      "--------------------------------------------------------------------------------\n",
      "results after 100 iterations; argmax and prob. distr for softmax:\n",
      "--------------------------------------------------------------------------------\n",
      "0 [0. 0. 0. 0. 0. 0. 0. 0. 0. 0.]\n",
      "################################################################################\n",
      "i-th element: 28\n",
      "y: [] 0\n",
      "--------------------------------------------------------------------------------\n",
      "results after 100 iterations; argmax and prob. distr for softmax:\n",
      "--------------------------------------------------------------------------------\n",
      "0 [0. 0. 0. 0. 0. 0. 0. 0. 0. 0.]\n",
      "################################################################################\n",
      "i-th element: 29\n",
      "y: [0] 1\n",
      "--------------------------------------------------------------------------------\n",
      "results after 100 iterations; argmax and prob. distr for softmax:\n",
      "--------------------------------------------------------------------------------\n",
      "0 [0. 0. 0. 0. 0. 0. 0. 0. 0. 0.]\n",
      "################################################################################\n",
      "i-th element: 30\n",
      "y: [0] 1\n",
      "--------------------------------------------------------------------------------\n",
      "results after 100 iterations; argmax and prob. distr for softmax:\n",
      "--------------------------------------------------------------------------------\n",
      "0 [0. 0. 0. 0. 0. 0. 0. 0. 0. 0.]\n",
      "################################################################################\n",
      "i-th element: 31\n",
      "y: [0] 7\n",
      "--------------------------------------------------------------------------------\n",
      "results after 100 iterations; argmax and prob. distr for softmax:\n",
      "--------------------------------------------------------------------------------\n",
      "0 [0. 0. 0. 0. 0. 0. 0. 0. 0. 0.]\n",
      "################################################################################\n",
      "i-th element: 32\n",
      "y: [0] 4\n",
      "--------------------------------------------------------------------------------\n",
      "results after 100 iterations; argmax and prob. distr for softmax:\n",
      "--------------------------------------------------------------------------------\n",
      "0 [0. 0. 0. 0. 0. 0. 0. 0. 0. 0.]\n",
      "################################################################################\n",
      "i-th element: 33\n",
      "y: [0] 2\n",
      "--------------------------------------------------------------------------------\n",
      "results after 100 iterations; argmax and prob. distr for softmax:\n",
      "--------------------------------------------------------------------------------\n",
      "0 [0. 0. 0. 0. 0. 0. 0. 0. 0. 0.]\n",
      "################################################################################\n",
      "i-th element: 34\n",
      "y: [0] 3\n",
      "--------------------------------------------------------------------------------\n",
      "results after 100 iterations; argmax and prob. distr for softmax:\n",
      "--------------------------------------------------------------------------------\n",
      "0 [0. 0. 0. 0. 0. 0. 0. 0. 0. 0.]\n",
      "################################################################################\n",
      "i-th element: 35\n",
      "y: [0] 2\n",
      "--------------------------------------------------------------------------------\n",
      "results after 100 iterations; argmax and prob. distr for softmax:\n",
      "--------------------------------------------------------------------------------\n",
      "0 [0. 0. 0. 0. 0. 0. 0. 0. 0. 0.]\n",
      "################################################################################\n",
      "i-th element: 36\n",
      "y: [0] 7\n",
      "--------------------------------------------------------------------------------\n",
      "results after 100 iterations; argmax and prob. distr for softmax:\n",
      "--------------------------------------------------------------------------------\n",
      "0 [0. 0. 0. 0. 0. 0. 0. 0. 0. 0.]\n",
      "################################################################################\n",
      "i-th element: 37\n",
      "y: [0] 5\n",
      "--------------------------------------------------------------------------------\n",
      "results after 100 iterations; argmax and prob. distr for softmax:\n",
      "--------------------------------------------------------------------------------\n",
      "0 [0. 0. 0. 0. 0. 0. 0. 0. 0. 0.]\n",
      "################################################################################\n",
      "i-th element: 38\n",
      "y: [0] 9\n",
      "--------------------------------------------------------------------------------\n",
      "results after 100 iterations; argmax and prob. distr for softmax:\n",
      "--------------------------------------------------------------------------------\n",
      "0 [0. 0. 0. 0. 0. 0. 0. 0. 0. 0.]\n",
      "################################################################################\n",
      "i-th element: 39\n",
      "y: [0] 2\n",
      "--------------------------------------------------------------------------------\n",
      "results after 100 iterations; argmax and prob. distr for softmax:\n",
      "--------------------------------------------------------------------------------\n",
      "0 [0. 0. 0. 0. 0. 0. 0. 0. 0. 0.]\n",
      "################################################################################\n",
      "i-th element: 40\n",
      "y: [0] 1\n",
      "--------------------------------------------------------------------------------\n",
      "results after 100 iterations; argmax and prob. distr for softmax:\n",
      "--------------------------------------------------------------------------------\n",
      "0 [0. 0. 0. 0. 0. 0. 0. 0. 0. 0.]\n",
      "################################################################################\n",
      "i-th element: 41\n",
      "y: [0] 5\n",
      "--------------------------------------------------------------------------------\n",
      "results after 100 iterations; argmax and prob. distr for softmax:\n",
      "--------------------------------------------------------------------------------\n",
      "0 [0. 0. 0. 0. 0. 0. 0. 0. 0. 0.]\n",
      "################################################################################\n",
      "i-th element: 42\n",
      "y: [0] 1\n",
      "--------------------------------------------------------------------------------\n",
      "results after 100 iterations; argmax and prob. distr for softmax:\n",
      "--------------------------------------------------------------------------------\n",
      "0 [0. 0. 0. 0. 0. 0. 0. 0. 0. 0.]\n",
      "################################################################################\n",
      "i-th element: 43\n",
      "y: [0] 9\n",
      "--------------------------------------------------------------------------------\n",
      "results after 100 iterations; argmax and prob. distr for softmax:\n",
      "--------------------------------------------------------------------------------\n",
      "0 [0. 0. 0. 0. 0. 0. 0. 0. 0. 0.]\n",
      "################################################################################\n",
      "i-th element: 44\n",
      "y: [0] 7\n",
      "--------------------------------------------------------------------------------\n",
      "results after 100 iterations; argmax and prob. distr for softmax:\n",
      "--------------------------------------------------------------------------------\n",
      "0 [0. 0. 0. 0. 0. 0. 0. 0. 0. 0.]\n",
      "################################################################################\n",
      "i-th element: 45\n",
      "y: [0] 2\n",
      "--------------------------------------------------------------------------------\n"
     ]
    },
    {
     "name": "stdout",
     "output_type": "stream",
     "text": [
      "results after 100 iterations; argmax and prob. distr for softmax:\n",
      "--------------------------------------------------------------------------------\n",
      "0 [0. 0. 0. 0. 0. 0. 0. 0. 0. 0.]\n",
      "################################################################################\n",
      "i-th element: 46\n",
      "y: [0] 6\n",
      "--------------------------------------------------------------------------------\n",
      "results after 100 iterations; argmax and prob. distr for softmax:\n",
      "--------------------------------------------------------------------------------\n",
      "0 [0. 0. 0. 0. 0. 0. 0. 0. 0. 0.]\n",
      "################################################################################\n",
      "i-th element: 47\n",
      "y: [0] 5\n",
      "--------------------------------------------------------------------------------\n",
      "results after 100 iterations; argmax and prob. distr for softmax:\n",
      "--------------------------------------------------------------------------------\n",
      "0 [0. 0. 0. 0. 0. 0. 0. 0. 0. 0.]\n",
      "################################################################################\n",
      "i-th element: 48\n",
      "y: [0] 8\n",
      "--------------------------------------------------------------------------------\n",
      "results after 100 iterations; argmax and prob. distr for softmax:\n",
      "--------------------------------------------------------------------------------\n",
      "0 [0. 0. 0. 0. 0. 0. 0. 0. 0. 0.]\n",
      "################################################################################\n",
      "i-th element: 49\n",
      "y: [0] 9\n",
      "--------------------------------------------------------------------------------\n",
      "results after 100 iterations; argmax and prob. distr for softmax:\n",
      "--------------------------------------------------------------------------------\n",
      "0 [0. 0. 0. 0. 0. 0. 0. 0. 0. 0.]\n"
     ]
    }
   ],
   "source": [
    "### training\n",
    "\n",
    "init_distribution = (-0.01, 0.01)\n",
    "layers_specs = [\n",
    "    (20, act_fn), \n",
    "    (25, act_fn), \n",
    "    (30, act_fn), \n",
    "    (10, fn_softmax)\n",
    "]\n",
    "\n",
    "nn = NeuralNetMultiLayer(layers_specs=layers_specs, dim_input=64)\n",
    "\n",
    "#-----------------------------------------------------\n",
    "def new():\n",
    "    \n",
    "    for t in range(50):\n",
    "        \n",
    "        lst_max_prob = []\n",
    "        \n",
    "        for i in range(1000):\n",
    "            print(\"#\" * 80)\n",
    "            x        = X_train[i]\n",
    "            y_target = y_train[i]\n",
    "\n",
    "            print(\"i-th element:\", i)\n",
    "            print(\"y:\", np.where(y_target)[0], y_target)\n",
    "            # print(\"x:\", x)\n",
    "            print(\"-\" * 80)\n",
    "\n",
    "            \n",
    "\n",
    "            nn.backpropagate(x, y_target, eta=0.01)\n",
    "\n",
    "            lst_x, lst_z, lst_y = nn.forward(x)\n",
    "            out                 = lst_y[-1]\n",
    "            ind_opt             = np.argmax(out)\n",
    "\n",
    "            # this is only to store probs on 4 decimals \n",
    "            # nothing fancy but just for printing since \n",
    "            # we print so many lines, etc. \n",
    "            prob = round(10000 * out[ind_opt]) / 1000\n",
    "\n",
    "            lst_max_prob.append((ind_opt, prob))\n",
    "\n",
    "        # print(lst_max_prob)\n",
    "        print(\"results after 100 iterations; argmax and prob. distr for softmax:\")\n",
    "        print(\"-\" * 80)\n",
    "        print(ind_opt, out)\n",
    "        \n",
    "#-----------------------------------------------------\n",
    "def old():\n",
    "    for i in range(50):\n",
    "        print(\"#\" * 80)\n",
    "        x        = X_train[i]\n",
    "        y_target = y_train[i]\n",
    "\n",
    "        print(\"i-th element:\", i)\n",
    "        print(\"y:\", np.where(y_target)[0], y_target)\n",
    "        # print(\"x:\", x)\n",
    "        print(\"-\" * 80)\n",
    "\n",
    "        lst_max_prob = []\n",
    "        for t in range(100):\n",
    "            nn.backpropagate(x, y_target, eta=0.01)\n",
    "\n",
    "            lst_x, lst_z, lst_y = nn.forward(x)\n",
    "            out                 = lst_y[-1]\n",
    "            ind_opt             = np.argmax(out)\n",
    "\n",
    "            # this is only to store probs on 4 decimals \n",
    "            # nothing fancy but just for printing since \n",
    "            # we print so many lines, etc. \n",
    "            prob = round(10000 * out[ind_opt]) / 1000\n",
    "\n",
    "            lst_max_prob.append((ind_opt, prob))\n",
    "\n",
    "        # print(lst_max_prob)\n",
    "        print(\"results after 100 iterations; argmax and prob. distr for softmax:\")\n",
    "        print(\"-\" * 80)\n",
    "        print(ind_opt, out)\n",
    "\n",
    "#-----------------------------------------------------\n",
    "old()\n",
    "# new()"
   ]
  },
  {
   "cell_type": "markdown",
   "metadata": {},
   "source": [
    "### batch part: make input 64 x R; "
   ]
  },
  {
   "cell_type": "code",
   "execution_count": 44,
   "metadata": {},
   "outputs": [
    {
     "data": {
      "text/plain": [
       "array([[ 0.        ,  0.        ,  0.        ],\n",
       "       [ 5.1636553 , -0.32798815,  4.0653267 ],\n",
       "       [ 2.281274  , -0.25172395,  1.0147752 ],\n",
       "       [ 0.7411883 ,  0.2716614 ,  0.7411883 ],\n",
       "       [-2.056128  ,  0.26545396,  0.96192855],\n",
       "       [-1.0224642 , -0.31854045,  1.7932305 ],\n",
       "       [-0.4087589 , -0.4087589 ,  3.8373284 ],\n",
       "       [-0.1181363 , -0.1181363 , -0.1181363 ],\n",
       "       [-0.06410783, -0.06410783, -0.06410783],\n",
       "       [ 2.7972956 , -0.6191353 ,  2.7972956 ],\n",
       "       [ 0.6752354 ,  1.044866  ,  1.044866  ],\n",
       "       [-0.23297663, -0.48333225,  0.51809025],\n",
       "       [ 0.1548083 , -0.05513155, -0.47501123],\n",
       "       [-1.3544892 , -0.03383791, -0.5290822 ],\n",
       "       [-0.5200271 , -0.5200271 ,  0.0441515 ],\n",
       "       [-0.12549825, -0.12549825, -0.12549825],\n",
       "       [-0.04841834, -0.04841834, -0.04841834],\n",
       "       [ 1.4974118 , -0.7276682 ,  0.94114184],\n",
       "       [ 0.20240551,  0.7236082 ,  1.0710768 ],\n",
       "       [-0.49542597,  0.02226253,  0.19482537],\n",
       "       [ 1.4403975 , -0.18032831, -1.1527637 ],\n",
       "       [-1.2633331 ,  0.5097456 , -1.2633331 ],\n",
       "       [-0.55300874, -0.55300874, -0.55300874],\n",
       "       [-0.10494103, -0.10494103, -0.10494103],\n",
       "       [-0.0362143 , -0.0362143 , -0.0362143 ],\n",
       "       [-0.78337175, -0.78337175, -0.78337175],\n",
       "       [-1.4524366 , -0.48891303,  0.15343602],\n",
       "       [-0.80511403,  1.0661327 ,  1.0661327 ],\n",
       "       [ 0.4924672 ,  0.8188549 , -1.4658593 ],\n",
       "       [-1.2861465 ,  1.4318823 , -1.2861465 ],\n",
       "       [-0.62327945, -0.07377153, -0.62327945],\n",
       "       [-0.05124837, -0.05124837, -0.05124837],\n",
       "       [ 0.        ,  0.        ,  0.        ],\n",
       "       [-0.67251015, -0.67251015, -0.67251015],\n",
       "       [-1.2096792 , -1.2096792 , -0.89481   ],\n",
       "       [-0.17234796, -1.4498982 ,  1.1052022 ],\n",
       "       [ 0.2749393 , -1.7507895 , -0.9067359 ],\n",
       "       [-1.4996864 ,  0.37654126, -1.4996864 ],\n",
       "       [-0.8184286 ,  0.5927507 , -0.8184286 ],\n",
       "       [ 0.        ,  0.        ,  0.        ],\n",
       "       [-0.06189494, -0.06189494, -0.06189494],\n",
       "       [-0.52933073, -0.52933073, -0.52933073],\n",
       "       [-1.0500654 , -1.0500654 , -1.0500654 ],\n",
       "       [ 0.892929  , -1.118365  ,  0.892929  ],\n",
       "       [ 0.21514137, -1.2194476 ,  0.37454012],\n",
       "       [-0.5764285 , -0.22335735, -1.4591063 ],\n",
       "       [-0.57469916,  1.2747542 , -0.80588084],\n",
       "       [-0.08444082, -0.08444082, -0.08444082],\n",
       "       [-0.0384427 , -0.0384427 , -0.0384427 ],\n",
       "       [ 0.18495128,  0.18495128,  2.5238385 ],\n",
       "       [ 0.62290055, -0.6204578 ,  0.44527793],\n",
       "       [ 1.2298499 , -1.0636337 ,  0.8476027 ],\n",
       "       [ 1.2481377 , -0.634053  ,  0.1188233 ],\n",
       "       [ 1.1977478 ,  0.53448   , -1.4553233 ],\n",
       "       [ 1.261655  ,  1.261655  , -0.7624543 ],\n",
       "       [-0.20963807, -0.20963807, -0.20963807],\n",
       "       [-0.02559898, -0.02559898, -0.02559898],\n",
       "       [ 5.0188346 ,  0.7665053 ,  2.89267   ],\n",
       "       [ 2.0616531 ,  0.09123044,  2.0616531 ],\n",
       "       [ 0.44303778, -0.24192882,  0.67135996],\n",
       "       [-0.7617499 ,  0.6476918 , -1.7684941 ],\n",
       "       [-0.13847522,  0.8748715 , -1.1518219 ],\n",
       "       [-0.265332  , -0.265332  , -0.51223147],\n",
       "       [-0.19234262, -0.19234262, -0.19234262]], dtype=float32)"
      ]
     },
     "execution_count": 44,
     "metadata": {},
     "output_type": "execute_result"
    }
   ],
   "source": [
    "R = 3\n",
    "\n",
    "x_input = np.transpose(X_train[0: R])\n",
    "x_input"
   ]
  },
  {
   "cell_type": "code",
   "execution_count": 45,
   "metadata": {},
   "outputs": [],
   "source": [
    "# np.atleast_2d(X_train[0]).shape"
   ]
  },
  {
   "cell_type": "code",
   "execution_count": 46,
   "metadata": {},
   "outputs": [
    {
     "data": {
      "text/plain": [
       "array([2, 9, 5], dtype=int32)"
      ]
     },
     "execution_count": 46,
     "metadata": {},
     "output_type": "execute_result"
    }
   ],
   "source": [
    "y_target = y_train[: R]\n",
    "y_target"
   ]
  },
  {
   "cell_type": "code",
   "execution_count": 47,
   "metadata": {},
   "outputs": [],
   "source": [
    "### bias has to be a random matrix: (64 x R)"
   ]
  },
  {
   "cell_type": "code",
   "execution_count": 48,
   "metadata": {
    "scrolled": true
   },
   "outputs": [
    {
     "ename": "TypeError",
     "evalue": "__init__() got an unexpected keyword argument 'batch'",
     "output_type": "error",
     "traceback": [
      "\u001b[0;31m---------------------------------------------------------------------------\u001b[0m",
      "\u001b[0;31mTypeError\u001b[0m                                 Traceback (most recent call last)",
      "\u001b[0;32m<ipython-input-48-1ab9a85d3349>\u001b[0m in \u001b[0;36m<module>\u001b[0;34m\u001b[0m\n\u001b[1;32m      8\u001b[0m                 ]\n\u001b[1;32m      9\u001b[0m \u001b[0;34m\u001b[0m\u001b[0m\n\u001b[0;32m---> 10\u001b[0;31m \u001b[0mnn\u001b[0m \u001b[0;34m=\u001b[0m \u001b[0mNeuralNetMultiLayer\u001b[0m\u001b[0;34m(\u001b[0m\u001b[0mlayers_specs\u001b[0m\u001b[0;34m=\u001b[0m\u001b[0mlayers_specs\u001b[0m\u001b[0;34m,\u001b[0m \u001b[0mdim_input\u001b[0m\u001b[0;34m=\u001b[0m\u001b[0;36m64\u001b[0m\u001b[0;34m,\u001b[0m \u001b[0mbatch\u001b[0m\u001b[0;34m=\u001b[0m\u001b[0mR\u001b[0m\u001b[0;34m)\u001b[0m\u001b[0;34m\u001b[0m\u001b[0;34m\u001b[0m\u001b[0m\n\u001b[0m\u001b[1;32m     11\u001b[0m \u001b[0;34m\u001b[0m\u001b[0m\n\u001b[1;32m     12\u001b[0m \u001b[0;34m\u001b[0m\u001b[0m\n",
      "\u001b[0;31mTypeError\u001b[0m: __init__() got an unexpected keyword argument 'batch'"
     ]
    }
   ],
   "source": [
    "### training\n",
    "\n",
    "init_distribution = (-0.01, 0.01)\n",
    "layers_specs = [(20, act_fn), \n",
    "                (25, act_fn), \n",
    "                (30, act_fn), \n",
    "                (10, fn_softmax),\n",
    "                ]\n",
    "\n",
    "nn = NeuralNetMultiLayer(layers_specs=layers_specs, dim_input=64, batch=R)\n",
    "\n",
    "\n",
    "for i in range(10):\n",
    "    print(\"#\" * 80)\n",
    "    # make proper input and target\n",
    "    x = np.transpose(X_train[R * i: R * (i + 1)])\n",
    "    y_target = y_train[R * i: R * (i + 1)]\n",
    "    \n",
    "\n",
    "    print(\"i-th element:\", i)\n",
    "    print(\"y:\", y_target)\n",
    "#     print(\"x:\", x)\n",
    "    print(\"-\" * 80)\n",
    "    \n",
    "    lst_max_prob = []\n",
    "    for t in range(100):\n",
    "        nn.backpropagate(x, y_target, eta=0.01) \n",
    "        lst_x, lst_z, lst_y = nn.forward(x)\n",
    "        out = lst_y[-1]\n",
    "        ind_opt = np.argmax(out)\n",
    "        # this is only to store probs on 4 decimals \n",
    "        # nothing fancy but just for printing since \n",
    "        # we print so many lines, etc. \n",
    "        prob = round(10000 * out[ind_opt]) / 10000 \n",
    "        lst_max_prob.append((np.argmax(out), prob))\n",
    "    \n",
    "#     print(lst_max_prob)\n",
    "    print(\"results after 100 iterations; argmax and prob. distr for softmax:\")\n",
    "    print(\"-\" * 80)\n",
    "    print(ind_opt, out)"
   ]
  },
  {
   "cell_type": "markdown",
   "metadata": {},
   "source": [
    "### real keras code"
   ]
  },
  {
   "cell_type": "code",
   "execution_count": 102,
   "metadata": {},
   "outputs": [
    {
     "name": "stdout",
     "output_type": "stream",
     "text": [
      "(1000, 1)\n",
      "y_train:\n",
      "[[0. 0. 0. 0. 0. 0. 0. 1. 0. 0.]\n",
      " [0. 0. 0. 0. 1. 0. 0. 0. 0. 0.]\n",
      " [0. 0. 0. 0. 0. 1. 0. 0. 0. 0.]\n",
      " [0. 0. 0. 0. 0. 0. 1. 0. 0. 0.]\n",
      " [0. 0. 0. 0. 0. 0. 1. 0. 0. 0.]\n",
      " [0. 0. 0. 0. 0. 1. 0. 0. 0. 0.]\n",
      " [0. 0. 0. 0. 0. 0. 0. 0. 1. 0.]\n",
      " [1. 0. 0. 0. 0. 0. 0. 0. 0. 0.]\n",
      " [0. 0. 0. 0. 0. 0. 0. 1. 0. 0.]\n",
      " [0. 0. 0. 0. 0. 0. 0. 1. 0. 0.]]\n",
      "<class 'numpy.ndarray'>\n",
      "Epoch 1/20\n",
      "1000/1000 [==============================] - 1s 753us/step - loss: 2.3626 - accuracy: 0.0870 - MAE: 0.1801 - MSE: 0.0913\n",
      "Epoch 2/20\n",
      "1000/1000 [==============================] - 0s 66us/step - loss: 2.3456 - accuracy: 0.1050 - MAE: 0.1801 - MSE: 0.0909\n",
      "Epoch 3/20\n",
      "1000/1000 [==============================] - 0s 56us/step - loss: 2.3252 - accuracy: 0.1090 - MAE: 0.1798 - MSE: 0.0904\n",
      "Epoch 4/20\n",
      "1000/1000 [==============================] - 0s 69us/step - loss: 2.3269 - accuracy: 0.0900 - MAE: 0.1800 - MSE: 0.0905\n",
      "Epoch 5/20\n",
      "1000/1000 [==============================] - 0s 86us/step - loss: 2.3223 - accuracy: 0.0960 - MAE: 0.1800 - MSE: 0.0904\n",
      "Epoch 6/20\n",
      "1000/1000 [==============================] - 0s 66us/step - loss: 2.3168 - accuracy: 0.0940 - MAE: 0.1799 - MSE: 0.0903\n",
      "Epoch 7/20\n",
      "1000/1000 [==============================] - 0s 86us/step - loss: 2.3090 - accuracy: 0.0960 - MAE: 0.1798 - MSE: 0.0902\n",
      "Epoch 8/20\n",
      "1000/1000 [==============================] - 0s 51us/step - loss: 2.3005 - accuracy: 0.1150 - MAE: 0.1796 - MSE: 0.0900\n",
      "Epoch 9/20\n",
      "1000/1000 [==============================] - 0s 40us/step - loss: 2.3035 - accuracy: 0.1020 - MAE: 0.1797 - MSE: 0.0900\n",
      "Epoch 10/20\n",
      "1000/1000 [==============================] - 0s 73us/step - loss: 2.3033 - accuracy: 0.1110 - MAE: 0.1797 - MSE: 0.0900\n",
      "Epoch 11/20\n",
      "1000/1000 [==============================] - 0s 59us/step - loss: 2.3087 - accuracy: 0.1080 - MAE: 0.1799 - MSE: 0.0901\n",
      "Epoch 12/20\n",
      "1000/1000 [==============================] - 0s 42us/step - loss: 2.3024 - accuracy: 0.1170 - MAE: 0.1797 - MSE: 0.0900\n",
      "Epoch 13/20\n",
      "1000/1000 [==============================] - 0s 58us/step - loss: 2.3073 - accuracy: 0.1130 - MAE: 0.1798 - MSE: 0.0901\n",
      "Epoch 14/20\n",
      "1000/1000 [==============================] - 0s 42us/step - loss: 2.3042 - accuracy: 0.1110 - MAE: 0.1798 - MSE: 0.0900\n",
      "Epoch 15/20\n",
      "1000/1000 [==============================] - 0s 66us/step - loss: 2.3052 - accuracy: 0.1020 - MAE: 0.1798 - MSE: 0.0901\n",
      "Epoch 16/20\n",
      "1000/1000 [==============================] - 0s 41us/step - loss: 2.2994 - accuracy: 0.1260 - MAE: 0.1797 - MSE: 0.0899\n",
      "Epoch 17/20\n",
      "1000/1000 [==============================] - 0s 75us/step - loss: 2.2969 - accuracy: 0.1090 - MAE: 0.1797 - MSE: 0.0899\n",
      "Epoch 18/20\n",
      "1000/1000 [==============================] - 0s 41us/step - loss: 2.3005 - accuracy: 0.1070 - MAE: 0.1797 - MSE: 0.0900\n",
      "Epoch 19/20\n",
      "1000/1000 [==============================] - 0s 54us/step - loss: 2.3004 - accuracy: 0.1250 - MAE: 0.1797 - MSE: 0.0899\n",
      "Epoch 20/20\n",
      "1000/1000 [==============================] - 0s 43us/step - loss: 2.2941 - accuracy: 0.1220 - MAE: 0.1796 - MSE: 0.0898\n",
      "100/100 [==============================] - 0s 3ms/step\n"
     ]
    }
   ],
   "source": [
    "import keras\n",
    "from keras.models import Sequential\n",
    "from keras.layers import Dense, Dropout, Activation\n",
    "from keras.optimizers import SGD\n",
    "\n",
    "# Generate dummy data\n",
    "import numpy as np\n",
    "x_train = np.random.random((1000, 20))\n",
    "y_train = keras.utils.to_categorical(np.random.randint(10, size=(1000, 1)), num_classes=10)\n",
    "\n",
    "print(np.random.randint(10, size=(1000, 1)).shape)\n",
    "print(\"y_train:\\n%s\" % y_train[ :10])\n",
    "print(type(y_train))\n",
    "\n",
    "x_test = np.random.random((100, 20))\n",
    "y_test = keras.utils.to_categorical(np.random.randint(10, size=(100, 1)), num_classes=10)\n",
    "\n",
    "model = Sequential()\n",
    "# Dense(64) is a fully-connected layer with 64 hidden units.\n",
    "# in the first layer, you must specify the expected input data shape:\n",
    "# here, 20-dimensional vectors.\n",
    "\n",
    "var_layer = Dense(64, activation='relu', input_dim=20)\n",
    "model.add(var_layer)\n",
    "model.add(Dropout(0.5))\n",
    "model.add(Dense(64, activation='relu'))\n",
    "model.add(Dropout(0.5))\n",
    "model.add(Dense(10, activation='softmax'))\n",
    "\n",
    "\n",
    "# link to metrics\n",
    "# https://www.tensorflow.org/api_docs/python/tf/keras/metrics\n",
    "    \n",
    "sgd = SGD(lr=0.01, decay=1e-6, momentum=0.9, nesterov=True)\n",
    "model.compile(loss='categorical_crossentropy',\n",
    "              optimizer=sgd,\n",
    "              metrics=['accuracy', \"MAE\", \"MSE\"])\n",
    "\n",
    "history = model.fit(x_train, y_train,\n",
    "          epochs=20,\n",
    "          batch_size=128)\n",
    "score = model.evaluate(x_test, y_test, batch_size=128)"
   ]
  },
  {
   "cell_type": "code",
   "execution_count": 106,
   "metadata": {},
   "outputs": [
    {
     "data": {
      "text/plain": [
       "{'loss': [2.362594602584839,\n",
       "  2.345613971710205,\n",
       "  2.3251704120635988,\n",
       "  2.326877000808716,\n",
       "  2.3222876529693606,\n",
       "  2.316785888671875,\n",
       "  2.3089638938903807,\n",
       "  2.300482145309448,\n",
       "  2.3034521713256835,\n",
       "  2.303325466156006,\n",
       "  2.308721284866333,\n",
       "  2.302357641220093,\n",
       "  2.3073188381195067,\n",
       "  2.3042040786743163,\n",
       "  2.3052172050476076,\n",
       "  2.2994082889556884,\n",
       "  2.2969489707946775,\n",
       "  2.3005349674224855,\n",
       "  2.3003688488006593,\n",
       "  2.294100429534912],\n",
       " 'accuracy': [0.087,\n",
       "  0.105,\n",
       "  0.109,\n",
       "  0.09,\n",
       "  0.096,\n",
       "  0.094,\n",
       "  0.096,\n",
       "  0.115,\n",
       "  0.102,\n",
       "  0.111,\n",
       "  0.108,\n",
       "  0.117,\n",
       "  0.113,\n",
       "  0.111,\n",
       "  0.102,\n",
       "  0.126,\n",
       "  0.109,\n",
       "  0.107,\n",
       "  0.125,\n",
       "  0.122],\n",
       " 'MAE': [0.18013445,\n",
       "  0.18006285,\n",
       "  0.1798106,\n",
       "  0.1800297,\n",
       "  0.1799708,\n",
       "  0.17991501,\n",
       "  0.17981525,\n",
       "  0.17963858,\n",
       "  0.17973486,\n",
       "  0.17970693,\n",
       "  0.17986383,\n",
       "  0.17973872,\n",
       "  0.17984621,\n",
       "  0.1798122,\n",
       "  0.17983882,\n",
       "  0.17970255,\n",
       "  0.17967197,\n",
       "  0.17974344,\n",
       "  0.17973337,\n",
       "  0.17961234],\n",
       " 'MSE': [0.09132635,\n",
       "  0.090908624,\n",
       "  0.09043978,\n",
       "  0.090527035,\n",
       "  0.09041705,\n",
       "  0.09029959,\n",
       "  0.09015769,\n",
       "  0.089964546,\n",
       "  0.0900287,\n",
       "  0.08999162,\n",
       "  0.09011877,\n",
       "  0.08999467,\n",
       "  0.09008237,\n",
       "  0.09004318,\n",
       "  0.09007228,\n",
       "  0.089920186,\n",
       "  0.089879416,\n",
       "  0.08995694,\n",
       "  0.08994354,\n",
       "  0.08982944]}"
      ]
     },
     "execution_count": 106,
     "metadata": {},
     "output_type": "execute_result"
    }
   ],
   "source": [
    "# import tensorflow as tf\n",
    "\n",
    "# inspection_model = tf.keras.Model(inputs=model.input, outputs=var_layer.output)\n",
    "# Y = inspection_model.predict(x_train)\n",
    "\n",
    "\n",
    "\n",
    "# https://machinelearningmastery.com/custom-metrics-deep-learning-keras-python/\n",
    "    \n",
    "dir(model.metrics[0])\n",
    "\n",
    "model.metrics_names\n",
    "\n",
    "history.history"
   ]
  },
  {
   "cell_type": "code",
   "execution_count": 108,
   "metadata": {},
   "outputs": [
    {
     "data": {
      "text/plain": [
       "[<keras.metrics.MeanMetricWrapper at 0x7fb50a4e3610>,\n",
       " <keras.metrics.MeanMetricWrapper at 0x7fb50a4e3650>,\n",
       " <keras.metrics.MeanMetricWrapper at 0x7fb50a735390>]"
      ]
     },
     "execution_count": 108,
     "metadata": {},
     "output_type": "execute_result"
    }
   ],
   "source": [
    "# get all metrics : instances of the class MeanMetricWrapper \n",
    "model.metrics"
   ]
  },
  {
   "cell_type": "code",
   "execution_count": 80,
   "metadata": {},
   "outputs": [],
   "source": []
  },
  {
   "cell_type": "code",
   "execution_count": 109,
   "metadata": {},
   "outputs": [
    {
     "name": "stdout",
     "output_type": "stream",
     "text": [
      "Epoch 1/20\n",
      "1000/1000 [==============================] - 1s 993us/step - loss: 0.7154 - accuracy: 0.5040\n",
      "Epoch 2/20\n",
      "1000/1000 [==============================] - 0s 77us/step - loss: 0.7119 - accuracy: 0.5120\n",
      "Epoch 3/20\n",
      "1000/1000 [==============================] - 0s 50us/step - loss: 0.7088 - accuracy: 0.4950\n",
      "Epoch 4/20\n",
      "1000/1000 [==============================] - 0s 45us/step - loss: 0.6928 - accuracy: 0.5220\n",
      "Epoch 5/20\n",
      "1000/1000 [==============================] - 0s 54us/step - loss: 0.7111 - accuracy: 0.5020\n",
      "Epoch 6/20\n",
      "1000/1000 [==============================] - 0s 55us/step - loss: 0.6963 - accuracy: 0.5130\n",
      "Epoch 7/20\n",
      "1000/1000 [==============================] - 0s 48us/step - loss: 0.6981 - accuracy: 0.5100\n",
      "Epoch 8/20\n",
      "1000/1000 [==============================] - 0s 81us/step - loss: 0.6970 - accuracy: 0.5130\n",
      "Epoch 9/20\n",
      "1000/1000 [==============================] - 0s 73us/step - loss: 0.6983 - accuracy: 0.5110\n",
      "Epoch 10/20\n",
      "1000/1000 [==============================] - 0s 35us/step - loss: 0.6939 - accuracy: 0.5240\n",
      "Epoch 11/20\n",
      "1000/1000 [==============================] - 0s 58us/step - loss: 0.7019 - accuracy: 0.4890\n",
      "Epoch 12/20\n",
      "1000/1000 [==============================] - 0s 43us/step - loss: 0.6873 - accuracy: 0.5450\n",
      "Epoch 13/20\n",
      "1000/1000 [==============================] - 0s 37us/step - loss: 0.7004 - accuracy: 0.5110\n",
      "Epoch 14/20\n",
      "1000/1000 [==============================] - 0s 34us/step - loss: 0.6930 - accuracy: 0.5220\n",
      "Epoch 15/20\n",
      "1000/1000 [==============================] - 0s 46us/step - loss: 0.6946 - accuracy: 0.5020\n",
      "Epoch 16/20\n",
      "1000/1000 [==============================] - 0s 62us/step - loss: 0.6905 - accuracy: 0.5300\n",
      "Epoch 17/20\n",
      "1000/1000 [==============================] - 0s 42us/step - loss: 0.6924 - accuracy: 0.5250\n",
      "Epoch 18/20\n",
      "1000/1000 [==============================] - 0s 37us/step - loss: 0.6888 - accuracy: 0.5240\n",
      "Epoch 19/20\n",
      "1000/1000 [==============================] - 0s 95us/step - loss: 0.6905 - accuracy: 0.5450\n",
      "Epoch 20/20\n",
      "1000/1000 [==============================] - 0s 45us/step - loss: 0.6875 - accuracy: 0.5230\n",
      "100/100 [==============================] - 0s 4ms/step\n"
     ]
    }
   ],
   "source": [
    "import numpy as np\n",
    "from keras.models import Sequential\n",
    "from keras.layers import Dense, Dropout\n",
    "\n",
    "# Generate dummy data\n",
    "x_train = np.random.random((1000, 20))\n",
    "y_train = np.random.randint(2, size=(1000, 1))\n",
    "x_test = np.random.random((100, 20))\n",
    "y_test = np.random.randint(2, size=(100, 1))\n",
    "\n",
    "model = Sequential()\n",
    "model.add(Dense(64, input_dim=20, activation='relu'))\n",
    "model.add(Dropout(0.5))\n",
    "model.add(Dense(64, activation='relu'))\n",
    "model.add(Dropout(0.5))\n",
    "model.add(Dense(1, activation='sigmoid'))\n",
    "\n",
    "model.compile(loss='binary_crossentropy',\n",
    "              optimizer='rmsprop',\n",
    "              metrics=['accuracy'])\n",
    "\n",
    "model.fit(x_train, y_train,\n",
    "          epochs=20,\n",
    "          batch_size=128)\n",
    "score = model.evaluate(x_test, y_test, batch_size=128)"
   ]
  },
  {
   "cell_type": "code",
   "execution_count": null,
   "metadata": {},
   "outputs": [],
   "source": []
  },
  {
   "cell_type": "code",
   "execution_count": null,
   "metadata": {},
   "outputs": [],
   "source": []
  },
  {
   "cell_type": "code",
   "execution_count": null,
   "metadata": {},
   "outputs": [],
   "source": []
  },
  {
   "cell_type": "code",
   "execution_count": 112,
   "metadata": {},
   "outputs": [],
   "source": [
    "# model.loss(X_train, y_train)"
   ]
  },
  {
   "cell_type": "code",
   "execution_count": 114,
   "metadata": {},
   "outputs": [],
   "source": [
    "# model.accuracy(X_train, y_train)"
   ]
  },
  {
   "cell_type": "code",
   "execution_count": 116,
   "metadata": {},
   "outputs": [],
   "source": [
    "# plot_prediction(model, sample_idx=5)"
   ]
  },
  {
   "cell_type": "code",
   "execution_count": 118,
   "metadata": {},
   "outputs": [],
   "source": [
    "# losses, accuracies, accuracies_test = [], [], []\n",
    "# losses.append(model.loss(X_train, y_train))\n",
    "# accuracies.append(model.accuracy(X_train, y_train))\n",
    "# accuracies_test.append(model.accuracy(X_test, y_test))\n",
    "\n",
    "# print(\"Random init: train loss: %0.5f, train acc: %0.3f, test acc: %0.3f\"\n",
    "#       % (losses[-1], accuracies[-1], accuracies_test[-1]))\n",
    "\n",
    "# for epoch in range(15):\n",
    "#     for i, (x, y) in enumerate(zip(X_train, y_train)):\n",
    "#         model.train(x, y, 0.1)\n",
    "\n",
    "#     losses.append(model.loss(X_train, y_train))\n",
    "#     accuracies.append(model.accuracy(X_train, y_train))\n",
    "#     accuracies_test.append(model.accuracy(X_test, y_test))\n",
    "#     print(\"Epoch #%d, train loss: %0.5f, train acc: %0.3f, test acc: %0.3f\"\n",
    "#           % (epoch + 1, losses[-1], accuracies[-1], accuracies_test[-1]))"
   ]
  },
  {
   "cell_type": "code",
   "execution_count": 119,
   "metadata": {},
   "outputs": [],
   "source": [
    "# plt.plot(losses)\n",
    "# plt.title(\"Training loss\");"
   ]
  },
  {
   "cell_type": "code",
   "execution_count": null,
   "metadata": {},
   "outputs": [],
   "source": [
    "# plt.plot(accuracies, label='train')\n",
    "# plt.plot(accuracies_test, label='test')\n",
    "# plt.ylim(0, 1.1)\n",
    "# plt.ylabel(\"accuracy\")\n",
    "# plt.legend(loc='best');"
   ]
  },
  {
   "cell_type": "code",
   "execution_count": 120,
   "metadata": {},
   "outputs": [],
   "source": [
    "# plot_prediction(model, sample_idx=4)"
   ]
  },
  {
   "cell_type": "markdown",
   "metadata": {},
   "source": [
    "## c) Exercises\n",
    "\n",
    "### Look at worst prediction errors\n",
    "\n",
    "- Use numpy to find test samples for which the model made the worst predictions,\n",
    "- Use the `plot_prediction` to look at the model predictions on those,\n",
    "- Would you have done any better?"
   ]
  },
  {
   "cell_type": "code",
   "execution_count": 122,
   "metadata": {},
   "outputs": [],
   "source": [
    "# %load solutions/worst_predictions.py"
   ]
  },
  {
   "cell_type": "markdown",
   "metadata": {},
   "source": [
    "### Hyper parameters settings\n",
    "\n",
    "- Experiment with different hyper parameters:\n",
    "  - learning rate,\n",
    "  - size of hidden layer,\n",
    "  - initialization scheme: test with 0 initialization vs uniform,\n",
    "  - implement other activation functions,\n",
    "  - implement the support for a second hidden layer.\n",
    "\n",
    "\n",
    "### Mini-batches\n",
    "\n",
    "- The current implementations of `train` and `grad_loss` function currently only accept a single sample at a time:\n",
    "    - implement the support for training with a mini-batch of 32 samples at a time instead of one,\n",
    "    - experiment with different sizes of batches,\n",
    "    - monitor the norm of the average gradients on the full training set at the end of each epoch.\n",
    "\n",
    "\n",
    "### Momentum\n",
    "\n",
    "- Bonus: Implement momentum\n",
    "\n",
    "\n",
    "### Back to Keras\n",
    "\n",
    "- Implement the same network architecture with Keras;\n",
    "\n",
    "- Check that the Keras model can approximately reproduce the behavior of the Numpy model when using similar hyperparameter values (size of the model, type of activations, learning rate value and use of momentum);\n",
    "\n",
    "- Compute the negative log likelihood of a sample 42 in the test set (can use `model.predict_proba`);\n",
    "\n",
    "- Compute the average negative log-likelihood on the full test set.\n",
    "\n",
    "- Compute the average negative log-likelihood  on the full training set and check that you can get the value of the loss reported by Keras.\n",
    "\n",
    "- Is the model overfitting or underfitting? (ensure that the model has fully converged by increasing the number of epochs to 50 or more if necessary)."
   ]
  },
  {
   "cell_type": "code",
   "execution_count": null,
   "metadata": {},
   "outputs": [],
   "source": []
  },
  {
   "cell_type": "code",
   "execution_count": 124,
   "metadata": {},
   "outputs": [],
   "source": [
    "# %load solutions/keras_model.py"
   ]
  },
  {
   "cell_type": "code",
   "execution_count": null,
   "metadata": {},
   "outputs": [],
   "source": [
    "# %load solutions/keras_model_test_loss.py"
   ]
  },
  {
   "cell_type": "markdown",
   "metadata": {},
   "source": [
    "## Homework assignments\n",
    "\n",
    "- Watch the following video on [how to code a minimal deep learning framework](https://www.youtube.com/watch?v=o64FV-ez6Gw) that feels like a simplified version\n",
    "of Keras but using numpy instead of tensorflow:"
   ]
  },
  {
   "cell_type": "code",
   "execution_count": null,
   "metadata": {},
   "outputs": [],
   "source": [
    "from IPython.display import YouTubeVideo\n",
    "YouTubeVideo(\"o64FV-ez6Gw\")"
   ]
  },
  {
   "cell_type": "markdown",
   "metadata": {},
   "source": [
    "- **Optional**: read the following blog post on Reverse-Mode Automatic Differentiation from start to section \"A simple implementation in Python\" included:\n",
    "\n",
    "  https://rufflewind.com/2016-12-30/reverse-mode-automatic-differentiation"
   ]
  }
 ],
 "metadata": {
  "kernelspec": {
   "display_name": "Python 3",
   "language": "python",
   "name": "python3"
  },
  "language_info": {
   "codemirror_mode": {
    "name": "ipython",
    "version": 3
   },
   "file_extension": ".py",
   "mimetype": "text/x-python",
   "name": "python",
   "nbconvert_exporter": "python",
   "pygments_lexer": "ipython3",
   "version": "3.7.5"
  }
 },
 "nbformat": 4,
 "nbformat_minor": 2
}
